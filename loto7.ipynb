{
 "cells": [
  {
   "cell_type": "code",
   "execution_count": 1,
   "id": "e5d36a5b-9c6e-40c6-b4bb-721d73a111f4",
   "metadata": {},
   "outputs": [
    {
     "name": "stdout",
     "output_type": "stream",
     "text": [
      "除外数字は\n",
      "[3, 1, 18, 5, 20, 19, 2, 16, 37, 25, 33, 12, 6, 8, 12, 20, 21, 24, 29]\n",
      "除外して残った数字は\n",
      "[4, 7, 9, 10, 11, 13, 14, 15, 17, 22, 23, 26, 27, 28, 30, 31, 32, 34, 35, 36]\n"
     ]
    }
   ],
   "source": [
    "import requests\n",
    "import random\n",
    "from bs4 import BeautifulSoup\n",
    "import pandas as pd\n",
    "import time\n",
    "from selenium import webdriver\n",
    "from selenium.webdriver.common.by import By\n",
    "from selenium.webdriver.support.ui import WebDriverWait\n",
    "from selenium.webdriver.support import expected_conditions as EC\n",
    "\n",
    "#Webサイトを２つスクレイピングする\n",
    "a_driver = webdriver.Chrome()\n",
    "a_driver.get(\"https://www.mizuhobank.co.jp/retail/takarakuji/check/loto/loto7/index.html\")\n",
    "a_wait = WebDriverWait(a_driver, 10)\n",
    "a_wait.until(EC.invisibility_of_element_located((By.CLASS_NAME,'js-now-loading')))\n",
    "a_html = a_driver.page_source.encode('utf-8')\n",
    "a_soup = BeautifulSoup(a_html,'html.parser')\n",
    "\n",
    "b_driver = webdriver.Chrome()\n",
    "b_driver.get(\"https://forincs.com/loto/loto7_winnum.php\")\n",
    "WebDriverWait(b_driver, 10).until(EC.presence_of_all_elements_located)\n",
    "b_html = b_driver.page_source.encode('utf-8')\n",
    "b_soup = BeautifulSoup(b_html,'html.parser')\n",
    "\n",
    "#総出現回数の下から12位までの数字を消去する\n",
    "mini_numbers = b_soup.find_all('td',class_='tbd_td_p1_c right')\n",
    "mini1 = mini_numbers[::3]\n",
    "mini2= mini1[-12:]\n",
    "mini3 = mini2[0]\n",
    "mini3 = mini3.text.replace('\\n','')\n",
    "removeloto7 = []\n",
    "for mini3 in mini2:\n",
    "    removeloto7.append(int(mini3.text))\n",
    "    \n",
    "#前回の当選数字を消去し配列からランダムで結果を表示する\n",
    "numbers = a_soup.find_all('strong',class_='js-lottery-number-pc')[0:7]\n",
    "#bnumber = a_soup.find('dd',class_='js-lottery-bonus-sp')\n",
    "number = numbers[0]\n",
    "loto7 = list(range(1,38))\n",
    "for number in numbers:\n",
    "    removeloto7.append(int(number.text))\n",
    "        \n",
    "#ロト7はボーナス数字からよく出るのでボーナス数字は除外しない\n",
    "#removeloto7.append(int(bnumber.text))\n",
    "\n",
    "#その他に除外したい数字があれば入力する\n",
    "#removeloto7.extend([?])\n",
    "\n",
    "print('除外数字は')\n",
    "print(removeloto7)\n",
    "\n",
    "remained_loto7 = [i for i in loto7 if i not in removeloto7]\n",
    "print('除外して残った数字は')\n",
    "print(remained_loto7)"
   ]
  },
  {
   "cell_type": "code",
   "execution_count": 2,
   "id": "0ed78208-dead-4364-96a7-78ba28c20220",
   "metadata": {},
   "outputs": [
    {
     "name": "stdout",
     "output_type": "stream",
     "text": [
      "今回のLOTO7の予想結果は\n",
      "[26, 36, 22, 17, 9, 11, 34]\n"
     ]
    }
   ],
   "source": [
    "#シャッフルして選択された数字に連続数字が含まれているならまたシャッフルする\n",
    "resultloto7 = random.sample(remained_loto7 ,7)\n",
    "resultloto7 = random.sample(remained_loto7 ,7)\n",
    "resultloto7 = random.sample(remained_loto7 ,7)\n",
    "a=resultloto7[0]\n",
    "b=resultloto7[1]\n",
    "c=resultloto7[2]\n",
    "d=resultloto7[3]\n",
    "e=resultloto7[4]\n",
    "f=resultloto7[5]\n",
    "g=resultloto7[6]\n",
    "i=0\n",
    "while i==0:\n",
    "    if (a==b+1 or a==c+1 or a==d+1 or a==e+1 or a==f+1 or a==g+1 or\n",
    "        b==a+1 or b==c+1 or b==d+1 or b==e+1 or b==f+1 or b==g+1 or\n",
    "        c==a+1 or c==b+1 or c==d+1 or c==e+1 or c==f+1 or c==g+1 or\n",
    "        d==a+1 or d==b+1 or d==c+1 or d==e+1 or d==f+1 or d==g+1 or\n",
    "        e==a+1 or e==b+1 or e==c+1 or e==d+1 or e==f+1 or e==g+1 or\n",
    "        f==a+1 or f==b+1 or f==c+1 or f==d+1 or f==e+1 or f==g+1 or\n",
    "        g==a+1 or g==b+1 or g==c+1 or g==d+1 or g==e+1 or g==f+1):\n",
    "        resultloto7 = random.sample(remained_loto7 ,7)\n",
    "        a=resultloto7[0]\n",
    "        b=resultloto7[1]\n",
    "        c=resultloto7[2]\n",
    "        d=resultloto7[3]\n",
    "        e=resultloto7[4]\n",
    "        f=resultloto7[5]\n",
    "        g=resultloto7[6]\n",
    "    else:\n",
    "        break\n",
    "        \n",
    "print('今回のLOTO7の予想結果は')\n",
    "print(resultloto7)"
   ]
  },
  {
   "cell_type": "code",
   "execution_count": null,
   "id": "ac014ad5-cfef-47da-9473-60d851908d5c",
   "metadata": {},
   "outputs": [],
   "source": []
  }
 ],
 "metadata": {
  "kernelspec": {
   "display_name": "Python 3 (ipykernel)",
   "language": "python",
   "name": "python3"
  },
  "language_info": {
   "codemirror_mode": {
    "name": "ipython",
    "version": 3
   },
   "file_extension": ".py",
   "mimetype": "text/x-python",
   "name": "python",
   "nbconvert_exporter": "python",
   "pygments_lexer": "ipython3",
   "version": "3.10.8"
  }
 },
 "nbformat": 4,
 "nbformat_minor": 5
}
